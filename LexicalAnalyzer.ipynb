{
  "nbformat": 4,
  "nbformat_minor": 0,
  "metadata": {
    "colab": {
      "provenance": []
    },
    "kernelspec": {
      "name": "python3",
      "display_name": "Python 3"
    },
    "language_info": {
      "name": "python"
    }
  },
  "cells": [
    {
      "cell_type": "code",
      "source": [
        "import re\n",
        "class LexicalAnalyzer:\n",
        "\n",
        "  token_types = {\n",
        "    r'//[\\s\\S]+': 'COMMENT', #replacing all the comments with ... and find them\n",
        "    r'int|float|if|else|exit|while|read|write|return': 'KEYWORD',\n",
        "    r'[A-Za-z][\\w]*': 'IDENTIFIER',  #identifiers\n",
        "    r'\\{|\\}|\\(|\\)|;|,|\\[|\\]': 'SEPARATOR',  #separators - ({ } ( ) [ ] ; ,) ;\n",
        "    r'==|!=|<|>|<=|>=|\\|\\||&&|!': 'LOGIC-OP',  #logical operators - ( == != < > <= >= ! || && )\n",
        "    r'[+\\-*/=]': 'ARITH-OP',  #arithmetic operators - (+ - * / =)\n",
        "    r'[-+]?\\d*\\.\\d+|\\d+|(\"[^\"]*\")|(\\'[^\\']*\\')': 'CONSTANT', # Matches integers and floating point numbers and strings (ex: 2, 4.5, \"cat\", etc)\n",
        "}\n",
        "\n",
        "  def __init__(self, path: str = \"\"):\n",
        "\n",
        "    try:\n",
        "      with open(path) as file:\n",
        "        self.code = file.read()\n",
        "    except FileNotFoundError:\n",
        "      print(\"File does not exist\")\n",
        "\n",
        "\n",
        "  def run(self):\n",
        "    tokens = []\n",
        "\n",
        "    comments = re.findall('/\\\\*[^*]*\\\\*+(?:[^/*][^*]*\\\\*+)*/',self.code)\n",
        "    cleaned_comments = [i.strip().replace('\\n',' ').replace('/*','// ').replace('*/','').strip() for i in comments]\n",
        "    for i in range(len(cleaned_comments)):\n",
        "      self.code = self.code.replace(comments[i],cleaned_comments[i])\n",
        "\n",
        "    try:\n",
        "\n",
        "        for line in self.code.split('\\n'):\n",
        "            line = line.strip()\n",
        "            while line:\n",
        "                match = None\n",
        "                for pattern, token_type in LexicalAnalyzer.token_types.items():\n",
        "                    regex = re.compile(f'^{pattern}')\n",
        "                    match = regex.match(line)\n",
        "                    if match:\n",
        "                        value = match.group(0)\n",
        "                        if token_type != 'COMMENT':\n",
        "                            tokens.append((token_type, value))\n",
        "                        else:\n",
        "                            tokens.append((token_type, value[2:].strip()))\n",
        "                        line = line[len(value):].lstrip()  # Remove the matched token and any leading whitespace\n",
        "                        break\n",
        "\n",
        "                if not match:\n",
        "                    print(f\"Error: Unrecognized token at the beginning of line: {line}\")\n",
        "                    break\n",
        "\n",
        "        return tokens\n",
        "\n",
        "    except:\n",
        "        return []"
      ],
      "metadata": {
        "id": "NRm4OYLvhMX4"
      },
      "execution_count": 9,
      "outputs": []
    },
    {
      "cell_type": "code",
      "source": [
        "obj = LexicalAnalyzer('/content/testcode.cminus')\n",
        "result = obj.run()\n",
        "print('For the following code -\\n')\n",
        "print(obj.code)\n",
        "print('\\nThe Lexical Analyzation is as follows')\n",
        "print(result)"
      ],
      "metadata": {
        "colab": {
          "base_uri": "https://localhost:8080/"
        },
        "id": "LP0ngyO3jXBn",
        "outputId": "af00d32f-88b0-429d-c101-f6275b1ddb37"
      },
      "execution_count": 10,
      "outputs": [
        {
          "output_type": "stream",
          "name": "stdout",
          "text": [
            "For the following code -\n",
            "\n",
            "int main() {\n",
            "int x, y = 2;\n",
            "//  this is a multiline comment\n",
            "float z_9 = 4.5\n",
            "read(x); read(y);\n",
            "while ((x!=0) || (y!=0)) {\n",
            "write (x*y);\n",
            "read (x); read (y);\n",
            "write('string');\n",
            "write(\"string\");\n",
            "}\n",
            "\n",
            "\n",
            "exit;\n",
            "}\n",
            "\n",
            "The Lexical Analyzation is as follows\n",
            "[('KEYWORD', 'int'), ('IDENTIFIER', 'main'), ('SEPARATOR', '('), ('SEPARATOR', ')'), ('SEPARATOR', '{'), ('KEYWORD', 'int'), ('IDENTIFIER', 'x'), ('SEPARATOR', ','), ('IDENTIFIER', 'y'), ('ARITH-OP', '='), ('CONSTANT', '2'), ('SEPARATOR', ';'), ('COMMENT', 'this is a multiline comment'), ('KEYWORD', 'float'), ('IDENTIFIER', 'z_9'), ('ARITH-OP', '='), ('CONSTANT', '4.5'), ('KEYWORD', 'read'), ('SEPARATOR', '('), ('IDENTIFIER', 'x'), ('SEPARATOR', ')'), ('SEPARATOR', ';'), ('KEYWORD', 'read'), ('SEPARATOR', '('), ('IDENTIFIER', 'y'), ('SEPARATOR', ')'), ('SEPARATOR', ';'), ('KEYWORD', 'while'), ('SEPARATOR', '('), ('SEPARATOR', '('), ('IDENTIFIER', 'x'), ('LOGIC-OP', '!='), ('CONSTANT', '0'), ('SEPARATOR', ')'), ('LOGIC-OP', '||'), ('SEPARATOR', '('), ('IDENTIFIER', 'y'), ('LOGIC-OP', '!='), ('CONSTANT', '0'), ('SEPARATOR', ')'), ('SEPARATOR', ')'), ('SEPARATOR', '{'), ('KEYWORD', 'write'), ('SEPARATOR', '('), ('IDENTIFIER', 'x'), ('ARITH-OP', '*'), ('IDENTIFIER', 'y'), ('SEPARATOR', ')'), ('SEPARATOR', ';'), ('KEYWORD', 'read'), ('SEPARATOR', '('), ('IDENTIFIER', 'x'), ('SEPARATOR', ')'), ('SEPARATOR', ';'), ('KEYWORD', 'read'), ('SEPARATOR', '('), ('IDENTIFIER', 'y'), ('SEPARATOR', ')'), ('SEPARATOR', ';'), ('KEYWORD', 'write'), ('SEPARATOR', '('), ('CONSTANT', \"'string'\"), ('SEPARATOR', ')'), ('SEPARATOR', ';'), ('KEYWORD', 'write'), ('SEPARATOR', '('), ('CONSTANT', '\"string\"'), ('SEPARATOR', ')'), ('SEPARATOR', ';'), ('SEPARATOR', '}'), ('KEYWORD', 'exit'), ('SEPARATOR', ';'), ('SEPARATOR', '}')]\n"
          ]
        }
      ]
    },
    {
      "cell_type": "code",
      "source": [],
      "metadata": {
        "id": "39B4atHrALfh"
      },
      "execution_count": 10,
      "outputs": []
    }
  ]
}