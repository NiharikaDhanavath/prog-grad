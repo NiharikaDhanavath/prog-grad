{
  "cells": [
    {
      "cell_type": "code",
      "execution_count": null,
      "metadata": {
        "id": "_x6G64ba9Ua9"
      },
      "outputs": [],
      "source": [
        "import random\n",
        "import time\n",
        "from tqdm import tqdm_notebook as tqdm\n",
        "import numpy as np\n",
        "import matplotlib.pyplot as plt\n",
        "import sys"
      ]
    },
    {
      "cell_type": "code",
      "execution_count": null,
      "metadata": {
        "id": "t-fVAwpb9Ua_"
      },
      "outputs": [],
      "source": [
        "class Node: # Represents an individual node in the doubly linked list\n",
        "    def __init__(self, val=None):\n",
        "        self.val = val\n",
        "        self.next = None\n",
        "        self.prev = None\n",
        "\n",
        "    def __repr__(self):\n",
        "        return str(self.val)"
      ]
    },
    {
      "cell_type": "code",
      "execution_count": null,
      "metadata": {
        "id": "1OB_nkkE9UbA"
      },
      "outputs": [],
      "source": [
        "class DLinkList: # doubly linked list class\n",
        "    def __init__(self):\n",
        "        self.head = None\n",
        "        self.tail = None\n",
        "        self.size = 0\n",
        "\n",
        "    def append(self, val): # adds an element at the end of a linked list\n",
        "\n",
        "        newnode = Node(val)\n",
        "\n",
        "        if self.head is None and self.tail is None: #0 elements\n",
        "            self.head = newnode\n",
        "            self.tail = newnode\n",
        "            self.size += 1\n",
        "        else:\n",
        "            self.tail.next = newnode\n",
        "            newnode.prev = self.tail\n",
        "            self.tail = newnode\n",
        "            self.size += 1\n",
        "\n",
        "    def delete(self, position: int): # deletes the element in a particular position in linked list\n",
        "\n",
        "        if self.head == None:\n",
        "            print('Linked list is empty, cannot delete the element')\n",
        "        else:\n",
        "            cur_pos = 1\n",
        "            node = self.head\n",
        "            if position == 1:\n",
        "                newhead = node.next\n",
        "                self.head = newhead\n",
        "                del node\n",
        "                self.size -= 1\n",
        "                return\n",
        "            while node != None:\n",
        "                if cur_pos == position: # tail, tail.prev = a, tail.next = None\n",
        "                    if node == self.tail:\n",
        "                        back = node.prev\n",
        "                        self.tail = back\n",
        "                        del back\n",
        "                        self.size -= 1\n",
        "                        break\n",
        "                    else:\n",
        "                        back,front = node.prev,node.next# back = a, front = None\n",
        "                        back.next = front # back.next = None\n",
        "                        front.prev = back # None.next -> error\n",
        "                        del node\n",
        "                        self.size -= 1\n",
        "                        break\n",
        "                node = node.next\n",
        "                cur_pos += 1\n",
        "\n",
        "    def sort(self, asc = True): # Sorts linked list in increasing or decreasing order based on asc parameter\n",
        "\n",
        "      check = lambda x,y: x>y if asc else x<y\n",
        "      for i in range(0,self.size):\n",
        "        temp = self.head\n",
        "        swap = False\n",
        "        for j in range(0,self.size-i-1):\n",
        "          if check(temp.val,temp.next.val):\n",
        "            temp.next.val, temp.val = temp.val, temp.next.val\n",
        "            swap = True\n",
        "\n",
        "          temp = temp.next\n",
        "\n",
        "        if not swap:\n",
        "          break\n",
        "\n",
        "\n",
        "    def countgt(self, num): # counts no of elements greater than num in linked list\n",
        "      count = 0\n",
        "      cur = self.head\n",
        "\n",
        "      while cur != None:\n",
        "        if cur.val>num:\n",
        "          count += 1\n",
        "        cur = cur.next\n",
        "\n",
        "      return count\n",
        "\n",
        "\n",
        "    def insertsorted(self, num, asc=True): # insertion of element in sorted linked list\n",
        "      check = lambda x,y: x<y if asc else x>y\n",
        "      newnode = Node(num)\n",
        "\n",
        "      if check(newnode.val,self.head.val):\n",
        "        newnode.next = self.head\n",
        "        self.head.prev = newnode\n",
        "        self.head = newnode\n",
        "        return\n",
        "\n",
        "      cur = self.head\n",
        "      while cur != None:\n",
        "        if  check(newnode.val,cur.val):\n",
        "          prev = cur.prev\n",
        "          prev.next,newnode.prev,newnode.next,cur.prev = (newnode, prev, cur, newnode)\n",
        "          break\n",
        "        cur = cur.next\n",
        "      else:\n",
        "        self.tail.next = newnode\n",
        "        newnode.prev = self.tail\n",
        "        self.tail = newnode\n",
        "\n",
        "    def __repr__(self):\n",
        "\n",
        "        output = '' # 1 -> 2 -> 3 -> 4\n",
        "        temp = self.head\n",
        "\n",
        "        while temp != self.tail:\n",
        "          output += str(temp.val) + ' -> '\n",
        "          temp = temp.next\n",
        "\n",
        "        output += str(temp.val)\n",
        "\n",
        "        return output\n"
      ]
    },
    {
      "cell_type": "code",
      "source": [
        "def sort(array, n, asc = True): # sorts the array in ascending or descending order based on asc parameter\n",
        "  check = lambda x,y: x>y if asc else x<y\n",
        "  for i in range(0,n):\n",
        "    swap = False\n",
        "    for j in range(0,n-i-1):\n",
        "      if check(array[i],array[j]):\n",
        "        array[i],array[j] = array[j],array[i]\n",
        "        swap = True\n",
        "    if not swap: break\n",
        "\n",
        "def delete(arr, n, position): # Deletes an element in an array based on position\n",
        "  arr[position-1] = None\n",
        "  for i in range(position-1,n-1):\n",
        "    arr[i],arr[i+1] = arr[i+1],arr[i]\n",
        "  pass\n",
        "\n",
        "def insertsorted(arr, n, num, asc = True): # Inserts an element in a sorted array\n",
        "  check = lambda x,y: x<y if asc else x>y\n",
        "  temp = None\n",
        "  for i in range(n):\n",
        "    if check(num,arr[i]):\n",
        "      temp = arr[i]\n",
        "      arr[i] = num\n",
        "      for j in range(i+1,n):\n",
        "        arr[j],temp = temp, arr[j]\n",
        "      break"
      ],
      "metadata": {
        "id": "hAFCjSSts2CW"
      },
      "execution_count": null,
      "outputs": []
    },
    {
      "cell_type": "code",
      "execution_count": null,
      "metadata": {
        "id": "Kkx-RVJC9UbB",
        "colab": {
          "base_uri": "https://localhost:8080/"
        },
        "outputId": "454e0c54-111e-40e1-f929-9c2b9979bef7"
      },
      "outputs": [
        {
          "output_type": "stream",
          "name": "stdout",
          "text": [
            "1 -> 2 -> 35 -> 3 -> 4\n",
            "1 -> 2 -> 3 -> 4\n",
            "2 -> 3 -> 4\n",
            "2 -> 3\n",
            "1 -> 2 -> 3\n",
            "1 -> 2 -> 3 -> 4\n",
            "1 -> 2 -> 2.5 -> 3 -> 4\n",
            "6 -> 1 -> 2 -> 2.5 -> 3 -> 4\n",
            "6 -> 1 -> 2 -> 2.5 -> 3 -> 4 -> 0\n"
          ]
        }
      ],
      "source": [
        "linklist = DLinkList()\n",
        "linklist.append(1)\n",
        "linklist.append(2)\n",
        "linklist.append(35)\n",
        "linklist.append(3)\n",
        "linklist.append(4)\n",
        "print(linklist)\n",
        "linklist.delete(3)\n",
        "print(linklist)\n",
        "linklist.delete(1)\n",
        "print(linklist)\n",
        "linklist.delete(3)\n",
        "print(linklist)\n",
        "linklist.insertsorted(1)\n",
        "print(linklist)\n",
        "linklist.insertsorted(4)\n",
        "print(linklist)\n",
        "linklist.insertsorted(2.5)\n",
        "print(linklist)\n",
        "linklist.insertsorted(6,asc=False)\n",
        "print(linklist)\n",
        "linklist.insertsorted(0,asc=False)\n",
        "print(linklist)"
      ]
    },
    {
      "cell_type": "markdown",
      "source": [
        "# Testing the code for linked list"
      ],
      "metadata": {
        "id": "aLAmg9f1yiB0"
      }
    },
    {
      "cell_type": "code",
      "source": [
        "n = int(input('Enter no.of elements in the linked list: '))\n",
        "m = int(input('Enter the upper range of elements: '))\n",
        "linkedlist = DLinkList()\n",
        "arr = []\n",
        "for i in range(n):\n",
        "  num = random.randint(1,m+1) # randint(a,b) gives a random number between a and b where b is exclusive\n",
        "  linkedlist.append(num)\n",
        "  arr.append(num)\n",
        "\n",
        "print(\"original linkedlist: \",linkedlist)\n",
        "count = linkedlist.countgt(50)\n",
        "sort_order = count>5\n",
        "linkedlist.sort(asc = sort_order)\n",
        "print(\"sorted linkedlist: \", linkedlist)\n",
        "position = 5 if sort_order else 2\n",
        "linkedlist.delete(position)\n",
        "linkedlist.insertsorted(10,sort_order)\n",
        "print(\"Linkedlist after changes: \", linkedlist)"
      ],
      "metadata": {
        "colab": {
          "base_uri": "https://localhost:8080/"
        },
        "id": "dxU9-6inGMaq",
        "outputId": "51e5f555-b800-4b5c-c9c6-9e0d4abbaca6"
      },
      "execution_count": null,
      "outputs": [
        {
          "output_type": "stream",
          "name": "stdout",
          "text": [
            "Enter no.of elements in the linked list: 7\n",
            "Enter the upper range of elements: 108\n",
            "original linkedlist:  78 -> 54 -> 45 -> 64 -> 45 -> 100 -> 43\n",
            "sorted linkedlist:  100 -> 78 -> 64 -> 54 -> 45 -> 45 -> 43\n",
            "Linkedlist after changes:  100 -> 64 -> 54 -> 45 -> 45 -> 43 -> 10\n"
          ]
        }
      ]
    },
    {
      "cell_type": "markdown",
      "source": [
        "# Testing the Code for Array"
      ],
      "metadata": {
        "id": "QmwPMru5yndj"
      }
    },
    {
      "cell_type": "code",
      "source": [
        "count = 0\n",
        "print(arr)\n",
        "for i in arr:\n",
        "  if i>50: count += 1\n",
        "sort_order = count > 5\n",
        "sort(arr, n, asc = sort_order)\n",
        "print(\"sorted array: \", arr)\n",
        "position = 5 if sort_order else 2\n",
        "delete(arr, n, position)\n",
        "print('array after deletion: ', arr)\n",
        "insertsorted(arr, n, 10)\n",
        "print('array after insertion: ', arr)"
      ],
      "metadata": {
        "colab": {
          "base_uri": "https://localhost:8080/"
        },
        "id": "Nns8YckNq9pD",
        "outputId": "cf43d1a5-8cdc-4333-f452-0602d10253f7"
      },
      "execution_count": null,
      "outputs": [
        {
          "output_type": "stream",
          "name": "stdout",
          "text": [
            "[78, 54, 45, 64, 45, 100, 43]\n",
            "sorted array:  [45, 45, 64, 100, 54, 78, 43]\n",
            "array after deletion:  [45, 64, 100, 54, 78, 43, None]\n",
            "array after insertion:  [10, 45, 64, 100, 54, 78, 43]\n"
          ]
        }
      ]
    },
    {
      "cell_type": "code",
      "source": [
        "  # scratch code\n",
        "flag = True\n",
        "a = lambda x,y: x<y if flag else x>y\n",
        "print(a(1,2))\n",
        "flag = False\n",
        "print(a(6,5))"
      ],
      "metadata": {
        "id": "9M3jO8pFInzl",
        "colab": {
          "base_uri": "https://localhost:8080/"
        },
        "outputId": "6961fe48-900c-4345-b3ab-141378f4fe01"
      },
      "execution_count": null,
      "outputs": [
        {
          "output_type": "stream",
          "name": "stdout",
          "text": [
            "True\n",
            "True\n"
          ]
        }
      ]
    },
    {
      "cell_type": "markdown",
      "source": [
        "# Time Complexity and Space Complexity"
      ],
      "metadata": {
        "id": "MuLy_3Izz2Fj"
      }
    },
    {
      "cell_type": "code",
      "source": [
        "def theoritical_time_and_space_complexity():\n",
        "  print('Time Complexity for Sorting and deletions and insertion of an element in Linked List and Array - O(n^2)')\n",
        "  print('Space Complexity for Sorting and deletions and insertion of an element in Linked List and Array - O(n)')"
      ],
      "metadata": {
        "id": "HS7iMui4z78k"
      },
      "execution_count": null,
      "outputs": []
    },
    {
      "cell_type": "code",
      "source": [
        "def calculate_time_and_space(n,m,r):\n",
        "  # for linked list\n",
        "  avg_time = 0\n",
        "  avg_space = 0\n",
        "  for i in range(r):\n",
        "    start_time = time.time()\n",
        "    llist = DLinkList()\n",
        "    for j in range(n):\n",
        "      num = random.randint(1,m+1)\n",
        "      llist.append(num)\n",
        "\n",
        "    count = llist.countgt(50)\n",
        "    sort_order = count>5\n",
        "    llist.sort(asc = sort_order)\n",
        "    position = 5 if sort_order else 2\n",
        "    llist.delete(position)\n",
        "    llist.insertsorted(10,sort_order)\n",
        "    end_time = time.time()\n",
        "    avg_time += (end_time-start_time)/r\n",
        "    avg_space += sys.getsizeof(llist)/r\n",
        "\n",
        "  print(f'Avg Time taken for Linked List Operations of size {n} - {avg_time} secs')\n",
        "  print(f'Avg space taken for Linked List Operations of size {n} - {avg_space} bytes')\n",
        "\n",
        "  #for array\n",
        "  avg_time = 0\n",
        "  avg_space = 0\n",
        "  for i in range(r):\n",
        "    start_time = time.time()\n",
        "    arr = []\n",
        "    for j in range(n):\n",
        "      num = random.randint(1,m+1)\n",
        "      arr.append(num)\n",
        "\n",
        "    for i in arr:\n",
        "      if i>50: count += 1\n",
        "\n",
        "    sort_order = count > 5\n",
        "    sort(arr, n, asc = sort_order)\n",
        "    position = 5 if sort_order else 2\n",
        "    delete(arr, n, position)\n",
        "    insertsorted(arr, n, 10)\n",
        "    end_time = time.time()\n",
        "    avg_time += (end_time-start_time)/r\n",
        "    avg_space += sys.getsizeof(arr)/r\n",
        "\n",
        "  print(f'Avg Time taken for Array Operations of size {n} - {avg_time} secs')\n",
        "  print(f'Avg space taken for Aray Operations of size {n} - {avg_space} bytes')"
      ],
      "metadata": {
        "id": "mJa4kibO1U8A"
      },
      "execution_count": null,
      "outputs": []
    },
    {
      "cell_type": "code",
      "source": [
        "theoritical_time_and_space_complexity()"
      ],
      "metadata": {
        "colab": {
          "base_uri": "https://localhost:8080/"
        },
        "id": "UeYowFfnCFUX",
        "outputId": "7018ab02-7111-42df-d74b-8df91c4eedd2"
      },
      "execution_count": null,
      "outputs": [
        {
          "output_type": "stream",
          "name": "stdout",
          "text": [
            "Time Complexity for Sorting and deletions and insertion of an element in Linked List and Array - O(n^2)\n",
            "Space Complexity for Sorting and deletions and insertion of an element in Linked List and Array - O(n)\n"
          ]
        }
      ]
    },
    {
      "cell_type": "code",
      "source": [
        "n = int(input('Enter no.of elements in the linked list: '))\n",
        "m = int(input('Enter the upper range of elements: '))\n",
        "r = int(input('Enter the no of times the operations has to be done for avg calculation: '))\n",
        "calculate_time_and_space(n,m,r)"
      ],
      "metadata": {
        "colab": {
          "base_uri": "https://localhost:8080/"
        },
        "id": "Y-59emGvCF69",
        "outputId": "f362f759-1f66-43b9-eac8-b05c2693219d"
      },
      "execution_count": null,
      "outputs": [
        {
          "output_type": "stream",
          "name": "stdout",
          "text": [
            "Enter no.of elements in the linked list: 50\n",
            "Enter the upper range of elements: 108\n",
            "Enter the no of times the operations has to be done for avg calculation: 5\n",
            "Avg Time taken for Linked List Operations of size 50 - 0.0006421089172363281 secs\n",
            "Avg space taken for Linked List Operations of size 50 - 48.0 bytes\n",
            "Avg Time taken for Array Operations of size 50 - 0.0006130218505859375 secs\n",
            "Avg space taken for Aray Operations of size 50 - 472.0 bytes\n"
          ]
        }
      ]
    },
    {
      "cell_type": "markdown",
      "source": [
        "# To plot the graph between the size of linked list vs avg time taken to perform operations"
      ],
      "metadata": {
        "id": "H0CTiYlayzTb"
      }
    },
    {
      "cell_type": "code",
      "source": [
        " def caltime(m,r):\n",
        "  avg_times = []\n",
        "  n = range(10,10000,50)\n",
        "  for i in tqdm(n):\n",
        "    avg_time = 0\n",
        "    for j in range(r):\n",
        "      start_time = time.time()\n",
        "      linkedlist = DLinkList()\n",
        "      for k in range(i):\n",
        "        num = random.randint(1,m+1) # randint(a,b) gives a random number between a and b where b is exclusive\n",
        "        linkedlist.append(num)\n",
        "\n",
        "      count = linkedlist.countgt(50)\n",
        "      sort_order = count>5\n",
        "      linkedlist.sort(asc = sort_order)\n",
        "      position = 5 if sort_order else 2\n",
        "      linkedlist.delete(position)\n",
        "      linkedlist.insertsorted(10,sort_order)\n",
        "      if i<=100: print(\"Final linked list: \", linkedlist)\n",
        "      end_time = time.time()\n",
        "      avg_time += (end_time-start_time)/r\n",
        "\n",
        "    avg_times.append(avg_time)\n",
        "\n",
        "  plt.plot(n,avg_times)\n",
        "  plt.xlabel(\"Size of Linked List\")\n",
        "  plt.ylabel(\"Avg time to perform operations\")\n",
        "  plt.xscale(\"log\")\n",
        "  return list(zip(n,avg_times))"
      ],
      "metadata": {
        "id": "OkVa0nNL5E9L"
      },
      "execution_count": null,
      "outputs": []
    },
    {
      "cell_type": "code",
      "source": [
        "vals = caltime(108,5)"
      ],
      "metadata": {
        "colab": {
          "base_uri": "https://localhost:8080/",
          "height": 732,
          "referenced_widgets": [
            "21c8c623be544af8beabc918c231ffcb",
            "d76ee64991814b7f82d911e917b6c2b5",
            "bd02e0fd5422434caaaaec7fb7957b7a",
            "a6b28b50f6f74861b2da79ff00ce1c48",
            "b7bc164b7fb14f03ad269fd683c22474",
            "fca388b6fa3d4f6db2f963f1ca122b56",
            "ce5621be2bdc4cab8de5ea30beee204d",
            "fc6184286331446ab7976c730664cdba",
            "28fb47f939564dcfbf32a507fe661cf1",
            "0d57e6ce8924410a88fb44664d54651a",
            "d4be8b635baf41bdb0cb65bc23353b96"
          ]
        },
        "id": "HhJczOetLJEH",
        "outputId": "302b5401-6b4b-4427-dd6d-492ce36fbd2d"
      },
      "execution_count": null,
      "outputs": [
        {
          "output_type": "stream",
          "name": "stderr",
          "text": [
            "<ipython-input-22-91234c08f8b4>:4: TqdmDeprecationWarning: This function will be removed in tqdm==5.0.0\n",
            "Please use `tqdm.notebook.tqdm` instead of `tqdm.tqdm_notebook`\n",
            "  for i in tqdm(n):\n"
          ]
        },
        {
          "output_type": "display_data",
          "data": {
            "text/plain": [
              "  0%|          | 0/200 [00:00<?, ?it/s]"
            ],
            "application/vnd.jupyter.widget-view+json": {
              "version_major": 2,
              "version_minor": 0,
              "model_id": "21c8c623be544af8beabc918c231ffcb"
            }
          },
          "metadata": {}
        },
        {
          "output_type": "stream",
          "name": "stdout",
          "text": [
            "Final linked list:  7 -> 10 -> 13 -> 37 -> 68 -> 80 -> 87 -> 89 -> 91 -> 93\n",
            "Final linked list:  10 -> 24 -> 27 -> 35 -> 37 -> 64 -> 71 -> 77 -> 80 -> 107\n",
            "Final linked list:  10 -> 25 -> 27 -> 27 -> 61 -> 82 -> 97 -> 103 -> 103 -> 107\n",
            "Final linked list:  95 -> 74 -> 58 -> 48 -> 44 -> 39 -> 33 -> 26 -> 26 -> 10\n",
            "Final linked list:  10 -> 24 -> 33 -> 39 -> 52 -> 80 -> 82 -> 89 -> 96 -> 101\n",
            "Final linked list:  3 -> 4 -> 9 -> 10 -> 11 -> 15 -> 19 -> 25 -> 29 -> 30 -> 31 -> 32 -> 33 -> 33 -> 34 -> 34 -> 34 -> 35 -> 37 -> 38 -> 39 -> 43 -> 45 -> 45 -> 48 -> 50 -> 50 -> 51 -> 53 -> 53 -> 53 -> 63 -> 64 -> 68 -> 73 -> 74 -> 75 -> 75 -> 78 -> 80 -> 81 -> 81 -> 85 -> 85 -> 88 -> 91 -> 92 -> 93 -> 94 -> 94 -> 96 -> 97 -> 98 -> 99 -> 100 -> 101 -> 105 -> 108 -> 108 -> 109\n",
            "Final linked list:  3 -> 3 -> 7 -> 10 -> 10 -> 12 -> 13 -> 16 -> 19 -> 19 -> 20 -> 26 -> 27 -> 30 -> 32 -> 36 -> 39 -> 39 -> 39 -> 40 -> 40 -> 42 -> 43 -> 45 -> 45 -> 48 -> 48 -> 50 -> 50 -> 50 -> 56 -> 57 -> 60 -> 65 -> 67 -> 69 -> 70 -> 70 -> 72 -> 73 -> 78 -> 78 -> 80 -> 81 -> 81 -> 83 -> 86 -> 90 -> 93 -> 93 -> 95 -> 97 -> 98 -> 98 -> 100 -> 100 -> 102 -> 106 -> 107 -> 109\n",
            "Final linked list:  2 -> 2 -> 4 -> 5 -> 9 -> 10 -> 11 -> 13 -> 14 -> 15 -> 16 -> 17 -> 18 -> 18 -> 24 -> 26 -> 27 -> 28 -> 30 -> 31 -> 32 -> 36 -> 43 -> 46 -> 46 -> 50 -> 51 -> 51 -> 52 -> 52 -> 52 -> 54 -> 55 -> 55 -> 57 -> 58 -> 61 -> 62 -> 63 -> 65 -> 66 -> 69 -> 71 -> 73 -> 74 -> 75 -> 76 -> 77 -> 82 -> 82 -> 83 -> 89 -> 92 -> 95 -> 95 -> 98 -> 106 -> 107 -> 107 -> 109\n",
            "Final linked list:  2 -> 4 -> 8 -> 9 -> 10 -> 11 -> 18 -> 18 -> 19 -> 20 -> 24 -> 25 -> 26 -> 27 -> 29 -> 29 -> 30 -> 31 -> 36 -> 36 -> 40 -> 40 -> 42 -> 46 -> 50 -> 51 -> 52 -> 54 -> 55 -> 56 -> 56 -> 57 -> 59 -> 60 -> 60 -> 62 -> 64 -> 69 -> 70 -> 70 -> 79 -> 83 -> 84 -> 86 -> 87 -> 88 -> 88 -> 88 -> 89 -> 90 -> 90 -> 92 -> 92 -> 94 -> 94 -> 95 -> 97 -> 102 -> 102 -> 109\n",
            "Final linked list:  2 -> 3 -> 4 -> 7 -> 10 -> 14 -> 15 -> 18 -> 21 -> 23 -> 23 -> 24 -> 25 -> 25 -> 26 -> 27 -> 28 -> 30 -> 32 -> 33 -> 33 -> 33 -> 37 -> 37 -> 39 -> 40 -> 41 -> 44 -> 46 -> 49 -> 52 -> 55 -> 55 -> 56 -> 56 -> 58 -> 62 -> 64 -> 68 -> 68 -> 69 -> 69 -> 70 -> 70 -> 73 -> 76 -> 78 -> 79 -> 79 -> 81 -> 81 -> 86 -> 86 -> 87 -> 94 -> 101 -> 106 -> 107 -> 108 -> 109\n"
          ]
        },
        {
          "output_type": "display_data",
          "data": {
            "text/plain": [
              "<Figure size 640x480 with 1 Axes>"
            ],
            "image/png": "[encoded data removed]"
          },
          "metadata": {}
        }
      ]
    }
  ],
  "metadata": {
    "kernelspec": {
      "display_name": "Python 3",
      "language": "python",
      "name": "python3"
    },
    "language_info": {
      "codemirror_mode": {
        "name": "ipython",
        "version": 3
      },
      "file_extension": ".py",
      "mimetype": "text/x-python",
      "name": "python",
      "nbconvert_exporter": "python",
      "pygments_lexer": "ipython3",
      "version": "3.7.5"
    },
    "colab": {
      "provenance": []
    },
    "widgets": {
      "application/vnd.jupyter.widget-state+json": {
        "21c8c623be544af8beabc918c231ffcb": {
          "model_module": "@jupyter-widgets/controls",
          "model_name": "HBoxModel",
          "model_module_version": "1.5.0",
          "state": {
            "_dom_classes": [],
            "_model_module": "@jupyter-widgets/controls",
            "_model_module_version": "1.5.0",
            "_model_name": "HBoxModel",
            "_view_count": null,
            "_view_module": "@jupyter-widgets/controls",
            "_view_module_version": "1.5.0",
            "_view_name": "HBoxView",
            "box_style": "",
            "children": [
              "IPY_MODEL_d76ee64991814b7f82d911e917b6c2b5",
              "IPY_MODEL_bd02e0fd5422434caaaaec7fb7957b7a",
              "IPY_MODEL_a6b28b50f6f74861b2da79ff00ce1c48"
            ],
            "layout": "IPY_MODEL_b7bc164b7fb14f03ad269fd683c22474"
          }
        },
        "d76ee64991814b7f82d911e917b6c2b5": {
          "model_module": "@jupyter-widgets/controls",
          "model_name": "HTMLModel",
          "model_module_version": "1.5.0",
          "state": {
            "_dom_classes": [],
            "_model_module": "@jupyter-widgets/controls",
            "_model_module_version": "1.5.0",
            "_model_name": "HTMLModel",
            "_view_count": null,
            "_view_module": "@jupyter-widgets/controls",
            "_view_module_version": "1.5.0",
            "_view_name": "HTMLView",
            "description": "",
            "description_tooltip": null,
            "layout": "IPY_MODEL_fca388b6fa3d4f6db2f963f1ca122b56",
            "placeholder": "​",
            "style": "IPY_MODEL_ce5621be2bdc4cab8de5ea30beee204d",
            "value": "100%"
          }
        },
        "bd02e0fd5422434caaaaec7fb7957b7a": {
          "model_module": "@jupyter-widgets/controls",
          "model_name": "FloatProgressModel",
          "model_module_version": "1.5.0",
          "state": {
            "_dom_classes": [],
            "_model_module": "@jupyter-widgets/controls",
            "_model_module_version": "1.5.0",
            "_model_name": "FloatProgressModel",
            "_view_count": null,
            "_view_module": "@jupyter-widgets/controls",
            "_view_module_version": "1.5.0",
            "_view_name": "ProgressView",
            "bar_style": "success",
            "description": "",
            "description_tooltip": null,
            "layout": "IPY_MODEL_fc6184286331446ab7976c730664cdba",
            "max": 200,
            "min": 0,
            "orientation": "horizontal",
            "style": "IPY_MODEL_28fb47f939564dcfbf32a507fe661cf1",
            "value": 200
          }
        },
        "a6b28b50f6f74861b2da79ff00ce1c48": {
          "model_module": "@jupyter-widgets/controls",
          "model_name": "HTMLModel",
          "model_module_version": "1.5.0",
          "state": {
            "_dom_classes": [],
            "_model_module": "@jupyter-widgets/controls",
            "_model_module_version": "1.5.0",
            "_model_name": "HTMLModel",
            "_view_count": null,
            "_view_module": "@jupyter-widgets/controls",
            "_view_module_version": "1.5.0",
            "_view_name": "HTMLView",
            "description": "",
            "description_tooltip": null,
            "layout": "IPY_MODEL_0d57e6ce8924410a88fb44664d54651a",
            "placeholder": "​",
            "style": "IPY_MODEL_d4be8b635baf41bdb0cb65bc23353b96",
            "value": " 200/200 [1:00:30&lt;00:00, 42.70s/it]"
          }
        },
        "b7bc164b7fb14f03ad269fd683c22474": {
          "model_module": "@jupyter-widgets/base",
          "model_name": "LayoutModel",
          "model_module_version": "1.2.0",
          "state": {
            "_model_module": "@jupyter-widgets/base",
            "_model_module_version": "1.2.0",
            "_model_name": "LayoutModel",
            "_view_count": null,
            "_view_module": "@jupyter-widgets/base",
            "_view_module_version": "1.2.0",
            "_view_name": "LayoutView",
            "align_content": null,
            "align_items": null,
            "align_self": null,
            "border": null,
            "bottom": null,
            "display": null,
            "flex": null,
            "flex_flow": null,
            "grid_area": null,
            "grid_auto_columns": null,
            "grid_auto_flow": null,
            "grid_auto_rows": null,
            "grid_column": null,
            "grid_gap": null,
            "grid_row": null,
            "grid_template_areas": null,
            "grid_template_columns": null,
            "grid_template_rows": null,
            "height": null,
            "justify_content": null,
            "justify_items": null,
            "left": null,
            "margin": null,
            "max_height": null,
            "max_width": null,
            "min_height": null,
            "min_width": null,
            "object_fit": null,
            "object_position": null,
            "order": null,
            "overflow": null,
            "overflow_x": null,
            "overflow_y": null,
            "padding": null,
            "right": null,
            "top": null,
            "visibility": null,
            "width": null
          }
        },
        "fca388b6fa3d4f6db2f963f1ca122b56": {
          "model_module": "@jupyter-widgets/base",
          "model_name": "LayoutModel",
          "model_module_version": "1.2.0",
          "state": {
            "_model_module": "@jupyter-widgets/base",
            "_model_module_version": "1.2.0",
            "_model_name": "LayoutModel",
            "_view_count": null,
            "_view_module": "@jupyter-widgets/base",
            "_view_module_version": "1.2.0",
            "_view_name": "LayoutView",
            "align_content": null,
            "align_items": null,
            "align_self": null,
            "border": null,
            "bottom": null,
            "display": null,
            "flex": null,
            "flex_flow": null,
            "grid_area": null,
            "grid_auto_columns": null,
            "grid_auto_flow": null,
            "grid_auto_rows": null,
            "grid_column": null,
            "grid_gap": null,
            "grid_row": null,
            "grid_template_areas": null,
            "grid_template_columns": null,
            "grid_template_rows": null,
            "height": null,
            "justify_content": null,
            "justify_items": null,
            "left": null,
            "margin": null,
            "max_height": null,
            "max_width": null,
            "min_height": null,
            "min_width": null,
            "object_fit": null,
            "object_position": null,
            "order": null,
            "overflow": null,
            "overflow_x": null,
            "overflow_y": null,
            "padding": null,
            "right": null,
            "top": null,
            "visibility": null,
            "width": null
          }
        },
        "ce5621be2bdc4cab8de5ea30beee204d": {
          "model_module": "@jupyter-widgets/controls",
          "model_name": "DescriptionStyleModel",
          "model_module_version": "1.5.0",
          "state": {
            "_model_module": "@jupyter-widgets/controls",
            "_model_module_version": "1.5.0",
            "_model_name": "DescriptionStyleModel",
            "_view_count": null,
            "_view_module": "@jupyter-widgets/base",
            "_view_module_version": "1.2.0",
            "_view_name": "StyleView",
            "description_width": ""
          }
        },
        "fc6184286331446ab7976c730664cdba": {
          "model_module": "@jupyter-widgets/base",
          "model_name": "LayoutModel",
          "model_module_version": "1.2.0",
          "state": {
            "_model_module": "@jupyter-widgets/base",
            "_model_module_version": "1.2.0",
            "_model_name": "LayoutModel",
            "_view_count": null,
            "_view_module": "@jupyter-widgets/base",
            "_view_module_version": "1.2.0",
            "_view_name": "LayoutView",
            "align_content": null,
            "align_items": null,
            "align_self": null,
            "border": null,
            "bottom": null,
            "display": null,
            "flex": null,
            "flex_flow": null,
            "grid_area": null,
            "grid_auto_columns": null,
            "grid_auto_flow": null,
            "grid_auto_rows": null,
            "grid_column": null,
            "grid_gap": null,
            "grid_row": null,
            "grid_template_areas": null,
            "grid_template_columns": null,
            "grid_template_rows": null,
            "height": null,
            "justify_content": null,
            "justify_items": null,
            "left": null,
            "margin": null,
            "max_height": null,
            "max_width": null,
            "min_height": null,
            "min_width": null,
            "object_fit": null,
            "object_position": null,
            "order": null,
            "overflow": null,
            "overflow_x": null,
            "overflow_y": null,
            "padding": null,
            "right": null,
            "top": null,
            "visibility": null,
            "width": null
          }
        },
        "28fb47f939564dcfbf32a507fe661cf1": {
          "model_module": "@jupyter-widgets/controls",
          "model_name": "ProgressStyleModel",
          "model_module_version": "1.5.0",
          "state": {
            "_model_module": "@jupyter-widgets/controls",
            "_model_module_version": "1.5.0",
            "_model_name": "ProgressStyleModel",
            "_view_count": null,
            "_view_module": "@jupyter-widgets/base",
            "_view_module_version": "1.2.0",
            "_view_name": "StyleView",
            "bar_color": null,
            "description_width": ""
          }
        },
        "0d57e6ce8924410a88fb44664d54651a": {
          "model_module": "@jupyter-widgets/base",
          "model_name": "LayoutModel",
          "model_module_version": "1.2.0",
          "state": {
            "_model_module": "@jupyter-widgets/base",
            "_model_module_version": "1.2.0",
            "_model_name": "LayoutModel",
            "_view_count": null,
            "_view_module": "@jupyter-widgets/base",
            "_view_module_version": "1.2.0",
            "_view_name": "LayoutView",
            "align_content": null,
            "align_items": null,
            "align_self": null,
            "border": null,
            "bottom": null,
            "display": null,
            "flex": null,
            "flex_flow": null,
            "grid_area": null,
            "grid_auto_columns": null,
            "grid_auto_flow": null,
            "grid_auto_rows": null,
            "grid_column": null,
            "grid_gap": null,
            "grid_row": null,
            "grid_template_areas": null,
            "grid_template_columns": null,
            "grid_template_rows": null,
            "height": null,
            "justify_content": null,
            "justify_items": null,
            "left": null,
            "margin": null,
            "max_height": null,
            "max_width": null,
            "min_height": null,
            "min_width": null,
            "object_fit": null,
            "object_position": null,
            "order": null,
            "overflow": null,
            "overflow_x": null,
            "overflow_y": null,
            "padding": null,
            "right": null,
            "top": null,
            "visibility": null,
            "width": null
          }
        },
        "d4be8b635baf41bdb0cb65bc23353b96": {
          "model_module": "@jupyter-widgets/controls",
          "model_name": "DescriptionStyleModel",
          "model_module_version": "1.5.0",
          "state": {
            "_model_module": "@jupyter-widgets/controls",
            "_model_module_version": "1.5.0",
            "_model_name": "DescriptionStyleModel",
            "_view_count": null,
            "_view_module": "@jupyter-widgets/base",
            "_view_module_version": "1.2.0",
            "_view_name": "StyleView",
            "description_width": ""
          }
        }
      }
    }
  },
  "nbformat": 4,
  "nbformat_minor": 0
}